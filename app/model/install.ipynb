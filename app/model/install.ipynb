{
 "cells": [
  {
   "cell_type": "code",
   "execution_count": 1,
   "id": "05b597f1",
   "metadata": {},
   "outputs": [
    {
     "name": "stderr",
     "output_type": "stream",
     "text": [
      "c:\\Users\\jywu7\\AppData\\Local\\Programs\\Python\\Python311\\Lib\\site-packages\\huggingface_hub\\file_download.py:982: UserWarning: `local_dir_use_symlinks` parameter is deprecated and will be ignored. The process to download files to a local folder has been updated and do not rely on symlinks anymore. You only need to pass a destination folder as`local_dir`.\n",
      "For more details, check out https://huggingface.co/docs/huggingface_hub/main/en/guides/download#download-files-to-local-folder.\n",
      "  warnings.warn(\n"
     ]
    },
    {
     "data": {
      "application/vnd.jupyter.widget-view+json": {
       "model_id": "d9e8abc45b0844eb815aae94b02498e3",
       "version_major": 2,
       "version_minor": 0
      },
      "text/plain": [
       "Fetching 14 files:   0%|          | 0/14 [00:00<?, ?it/s]"
      ]
     },
     "metadata": {},
     "output_type": "display_data"
    },
    {
     "data": {
      "application/vnd.jupyter.widget-view+json": {
       "model_id": "92f36741a4694968a30fead9dffb0579",
       "version_major": 2,
       "version_minor": 0
      },
      "text/plain": [
       "model-00004-of-00004.safetensors:   0%|          | 0.00/1.09G [00:00<?, ?B/s]"
      ]
     },
     "metadata": {},
     "output_type": "display_data"
    },
    {
     "data": {
      "application/vnd.jupyter.widget-view+json": {
       "model_id": "92d236fbe0464df485bd651237779dca",
       "version_major": 2,
       "version_minor": 0
      },
      "text/plain": [
       "model-00002-of-00004.safetensors:   0%|          | 0.00/4.93G [00:00<?, ?B/s]"
      ]
     },
     "metadata": {},
     "output_type": "display_data"
    },
    {
     "data": {
      "application/vnd.jupyter.widget-view+json": {
       "model_id": "1d0e47698ae446cc96bb7c9b851fce1c",
       "version_major": 2,
       "version_minor": 0
      },
      "text/plain": [
       "model-00001-of-00004.safetensors:   0%|          | 0.00/4.88G [00:00<?, ?B/s]"
      ]
     },
     "metadata": {},
     "output_type": "display_data"
    },
    {
     "data": {
      "application/vnd.jupyter.widget-view+json": {
       "model_id": "8f62dc9503cc491985e32b292b0da86c",
       "version_major": 2,
       "version_minor": 0
      },
      "text/plain": [
       "model-00003-of-00004.safetensors:   0%|          | 0.00/4.33G [00:00<?, ?B/s]"
      ]
     },
     "metadata": {},
     "output_type": "display_data"
    },
    {
     "name": "stdout",
     "output_type": "stream",
     "text": [
      "✅ Downloaded to: C:\\Users\\jywu7\\OneDrive\\Documents\\MLE_capstone\\app\\model\\models\\Qwen2.5-Coder-7B-Instruct\n",
      "📦 Files: 29 | Size: 15.24 GB\n",
      "\n",
      "Key files present:\n",
      " - config.json ✓\n",
      " - generation_config.json ✓\n",
      " - tokenizer.json ✓\n",
      " - tokenizer_config.json ✓\n",
      " - vocab.json ✓\n",
      " - merges.txt ✓\n",
      " - model.safetensors.index.json ✓\n",
      "\n",
      "Weight shards found:\n",
      " - model-00001-of-00004.safetensors  (4.88 GB)\n",
      " - model-00002-of-00004.safetensors  (4.93 GB)\n",
      " - model-00003-of-00004.safetensors  (4.33 GB)\n",
      " - model-00004-of-00004.safetensors  (1.09 GB)\n"
     ]
    }
   ],
   "source": [
    "# Download Qwen2.5-Coder-7B-Instruct locally (works in Colab or local Jupyter)\n",
    "\n",
    "import sys, subprocess, os, json, pathlib\n",
    "def _pip(pkg): \n",
    "    subprocess.check_call([sys.executable, \"-m\", \"pip\", \"install\", \"-U\", pkg], stdout=subprocess.PIPE)\n",
    "\n",
    "try:\n",
    "    from huggingface_hub import snapshot_download\n",
    "except Exception:\n",
    "    _pip(\"huggingface_hub>=0.23\")\n",
    "    from huggingface_hub import snapshot_download\n",
    "\n",
    "MODEL_REPO = \"Qwen/Qwen2.5-Coder-7B-Instruct\"\n",
    "LOCAL_DIR  = \"./models/Qwen2.5-Coder-7B-Instruct\"\n",
    "\n",
    "# Optional: set a token if the repo ever requires auth (usually not for this one)\n",
    "# os.environ[\"HUGGINGFACE_HUB_TOKEN\"] = \"<your_token_here>\"\n",
    "\n",
    "pathlib.Path(LOCAL_DIR).mkdir(parents=True, exist_ok=True)\n",
    "\n",
    "local_path = snapshot_download(\n",
    "    repo_id=MODEL_REPO,\n",
    "    local_dir=LOCAL_DIR,\n",
    "    local_dir_use_symlinks=False,   # store real files so it works fully offline\n",
    "    allow_patterns=None,            # download all files in the repo\n",
    ")\n",
    "\n",
    "# Show a quick summary of what was downloaded\n",
    "total_bytes = 0\n",
    "files = []\n",
    "for p in pathlib.Path(local_path).rglob(\"*\"):\n",
    "    if p.is_file():\n",
    "        sz = p.stat().st_size\n",
    "        total_bytes += sz\n",
    "        files.append((str(p.relative_to(local_path)), sz))\n",
    "\n",
    "files.sort()\n",
    "print(f\"✅ Downloaded to: {local_path}\")\n",
    "print(f\"📦 Files: {len(files)} | Size: {total_bytes/1e9:.2f} GB\\n\")\n",
    "\n",
    "# List the key files you should see\n",
    "key_names = [\"config.json\",\"generation_config.json\",\"tokenizer.json\",\n",
    "             \"tokenizer_config.json\",\"vocab.json\",\"merges.txt\",\n",
    "             \"model.safetensors.index.json\"]\n",
    "print(\"Key files present:\")\n",
    "for name in key_names:\n",
    "    print(\" -\", name, \"✓\" if (pathlib.Path(local_path)/name).exists() else \"⚠️ missing\")\n",
    "\n",
    "# (Optional) print the first few weight shards it found\n",
    "print(\"\\nWeight shards found:\")\n",
    "for f, sz in files:\n",
    "    if f.endswith(\".safetensors\"):\n",
    "        print(f\" - {f}  ({sz/1e9:.2f} GB)\")\n"
   ]
  }
 ],
 "metadata": {
  "kernelspec": {
   "display_name": "Python 3",
   "language": "python",
   "name": "python3"
  },
  "language_info": {
   "codemirror_mode": {
    "name": "ipython",
    "version": 3
   },
   "file_extension": ".py",
   "mimetype": "text/x-python",
   "name": "python",
   "nbconvert_exporter": "python",
   "pygments_lexer": "ipython3",
   "version": "3.11.0"
  }
 },
 "nbformat": 4,
 "nbformat_minor": 5
}
