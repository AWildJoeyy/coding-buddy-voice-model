{
 "cells": [
  {
   "cell_type": "code",
   "execution_count": null,
   "id": "05b597f1",
   "metadata": {},
   "outputs": [
    {
     "name": "stderr",
     "output_type": "stream",
     "text": [
      "c:\\Users\\jywu7\\AppData\\Local\\Programs\\Python\\Python311\\Lib\\site-packages\\huggingface_hub\\file_download.py:982: UserWarning: `local_dir_use_symlinks` parameter is deprecated and will be ignored. The process to download files to a local folder has been updated and do not rely on symlinks anymore. You only need to pass a destination folder as`local_dir`.\n",
      "For more details, check out https://huggingface.co/docs/huggingface_hub/main/en/guides/download#download-files-to-local-folder.\n",
      "  warnings.warn(\n"
     ]
    },
    {
     "data": {
      "application/vnd.jupyter.widget-view+json": {
       "model_id": "d9e8abc45b0844eb815aae94b02498e3",
       "version_major": 2,
       "version_minor": 0
      },
      "text/plain": [
       "Fetching 14 files:   0%|          | 0/14 [00:00<?, ?it/s]"
      ]
     },
     "metadata": {},
     "output_type": "display_data"
    },
    {
     "data": {
      "application/vnd.jupyter.widget-view+json": {
       "model_id": "92f36741a4694968a30fead9dffb0579",
       "version_major": 2,
       "version_minor": 0
      },
      "text/plain": [
       "model-00004-of-00004.safetensors:   0%|          | 0.00/1.09G [00:00<?, ?B/s]"
      ]
     },
     "metadata": {},
     "output_type": "display_data"
    },
    {
     "data": {
      "application/vnd.jupyter.widget-view+json": {
       "model_id": "92d236fbe0464df485bd651237779dca",
       "version_major": 2,
       "version_minor": 0
      },
      "text/plain": [
       "model-00002-of-00004.safetensors:   0%|          | 0.00/4.93G [00:00<?, ?B/s]"
      ]
     },
     "metadata": {},
     "output_type": "display_data"
    },
    {
     "data": {
      "application/vnd.jupyter.widget-view+json": {
       "model_id": "1d0e47698ae446cc96bb7c9b851fce1c",
       "version_major": 2,
       "version_minor": 0
      },
      "text/plain": [
       "model-00001-of-00004.safetensors:   0%|          | 0.00/4.88G [00:00<?, ?B/s]"
      ]
     },
     "metadata": {},
     "output_type": "display_data"
    },
    {
     "data": {
      "application/vnd.jupyter.widget-view+json": {
       "model_id": "8f62dc9503cc491985e32b292b0da86c",
       "version_major": 2,
       "version_minor": 0
      },
      "text/plain": [
       "model-00003-of-00004.safetensors:   0%|          | 0.00/4.33G [00:00<?, ?B/s]"
      ]
     },
     "metadata": {},
     "output_type": "display_data"
    },
    {
     "name": "stdout",
     "output_type": "stream",
     "text": [
      "✅ Downloaded to: C:\\Users\\jywu7\\OneDrive\\Documents\\MLE_capstone\\app\\model\\models\\Qwen2.5-Coder-7B-Instruct\n",
      "📦 Files: 29 | Size: 15.24 GB\n",
      "\n",
      "Key files present:\n",
      " - config.json ✓\n",
      " - generation_config.json ✓\n",
      " - tokenizer.json ✓\n",
      " - tokenizer_config.json ✓\n",
      " - vocab.json ✓\n",
      " - merges.txt ✓\n",
      " - model.safetensors.index.json ✓\n",
      "\n",
      "Weight shards found:\n",
      " - model-00001-of-00004.safetensors  (4.88 GB)\n",
      " - model-00002-of-00004.safetensors  (4.93 GB)\n",
      " - model-00003-of-00004.safetensors  (4.33 GB)\n",
      " - model-00004-of-00004.safetensors  (1.09 GB)\n"
     ]
    }
   ],
   "source": [
    "# Download Qwen2.5-Coder-7B-Instruct locally (works in Colab or local Jupyter)\n",
    "\n",
    "import sys, subprocess, os, json, pathlib\n",
    "def _pip(pkg): \n",
    "    subprocess.check_call([sys.executable, \"-m\", \"pip\", \"install\", \"-U\", pkg], stdout=subprocess.PIPE)\n",
    "\n",
    "try:\n",
    "    from huggingface_hub import snapshot_download\n",
    "except Exception:\n",
    "    _pip(\"huggingface_hub>=0.23\")\n",
    "    from huggingface_hub import snapshot_download\n",
    "\n",
    "MODEL_REPO = \"Qwen/Qwen2.5-Coder-7B-Instruct\"\n",
    "LOCAL_DIR  = \"./models/Qwen2.5-Coder-7B-Instruct\"\n",
    "\n",
    "# Optional: set a token if the repo ever requires auth (usually not for this one)\n",
    "# os.environ[\"HUGGINGFACE_HUB_TOKEN\"] = \"<your_token_here>\"\n",
    "\n",
    "pathlib.Path(LOCAL_DIR).mkdir(parents=True, exist_ok=True)\n",
    "\n",
    "local_path = snapshot_download(\n",
    "    repo_id=MODEL_REPO,\n",
    "    local_dir=LOCAL_DIR,\n",
    "    local_dir_use_symlinks=False,   # store real files so it works fully offline\n",
    "    allow_patterns=None,            # download all files in the repo\n",
    ")\n",
    "\n",
    "# Show a quick summary of what was downloaded\n",
    "total_bytes = 0\n",
    "files = []\n",
    "for p in pathlib.Path(local_path).rglob(\"*\"):\n",
    "    if p.is_file():\n",
    "        sz = p.stat().st_size\n",
    "        total_bytes += sz\n",
    "        files.append((str(p.relative_to(local_path)), sz))\n",
    "\n",
    "files.sort()\n",
    "print(f\"✅ Downloaded to: {local_path}\")\n",
    "print(f\"📦 Files: {len(files)} | Size: {total_bytes/1e9:.2f} GB\\n\")\n",
    "\n",
    "# List the key files you should see\n",
    "key_names = [\"config.json\",\"generation_config.json\",\"tokenizer.json\",\n",
    "             \"tokenizer_config.json\",\"vocab.json\",\"merges.txt\",\n",
    "             \"model.safetensors.index.json\"]\n",
    "print(\"Key files present:\")\n",
    "for name in key_names:\n",
    "    print(\" -\", name, \"✓\" if (pathlib.Path(local_path)/name).exists() else \"⚠️ missing\")\n",
    "\n",
    "# (Optional) print the first few weight shards it found\n",
    "print(\"\\nWeight shards found:\")\n",
    "for f, sz in files:\n",
    "    if f.endswith(\".safetensors\"):\n",
    "        print(f\" - {f}  ({sz/1e9:.2f} GB)\")\n"
   ]
  },
  {
   "cell_type": "code",
   "execution_count": null,
   "id": "c7cc54fb",
   "metadata": {},
   "outputs": [
    {
     "ename": "RepositoryNotFoundError",
     "evalue": "404 Client Error. (Request ID: Root=1-68d6ee03-5ef3b3577200a1b13a07b633;af4206ab-0644-4863-b9ca-29008c687cfd)\n\nRepository Not Found for url: https://huggingface.co/api/models/Qwen/Qwen2.5-7B-Instruct-GPTQ/revision/main.\nPlease make sure you specified the correct `repo_id` and `repo_type`.\nIf you are trying to access a private or gated repo, make sure you are authenticated. For more details, see https://huggingface.co/docs/huggingface_hub/authentication",
     "output_type": "error",
     "traceback": [
      "\u001b[31m---------------------------------------------------------------------------\u001b[39m",
      "\u001b[31mHTTPError\u001b[39m                                 Traceback (most recent call last)",
      "\u001b[36mFile \u001b[39m\u001b[32mc:\\Users\\jywu7\\AppData\\Local\\Programs\\Python\\Python311\\Lib\\site-packages\\huggingface_hub\\utils\\_http.py:409\u001b[39m, in \u001b[36mhf_raise_for_status\u001b[39m\u001b[34m(response, endpoint_name)\u001b[39m\n\u001b[32m    408\u001b[39m \u001b[38;5;28;01mtry\u001b[39;00m:\n\u001b[32m--> \u001b[39m\u001b[32m409\u001b[39m     \u001b[43mresponse\u001b[49m\u001b[43m.\u001b[49m\u001b[43mraise_for_status\u001b[49m\u001b[43m(\u001b[49m\u001b[43m)\u001b[49m\n\u001b[32m    410\u001b[39m \u001b[38;5;28;01mexcept\u001b[39;00m HTTPError \u001b[38;5;28;01mas\u001b[39;00m e:\n",
      "\u001b[36mFile \u001b[39m\u001b[32mc:\\Users\\jywu7\\AppData\\Local\\Programs\\Python\\Python311\\Lib\\site-packages\\requests\\models.py:1026\u001b[39m, in \u001b[36mResponse.raise_for_status\u001b[39m\u001b[34m(self)\u001b[39m\n\u001b[32m   1025\u001b[39m \u001b[38;5;28;01mif\u001b[39;00m http_error_msg:\n\u001b[32m-> \u001b[39m\u001b[32m1026\u001b[39m     \u001b[38;5;28;01mraise\u001b[39;00m HTTPError(http_error_msg, response=\u001b[38;5;28mself\u001b[39m)\n",
      "\u001b[31mHTTPError\u001b[39m: 404 Client Error: Not Found for url: https://huggingface.co/api/models/Qwen/Qwen2.5-7B-Instruct-GPTQ/revision/main",
      "\nThe above exception was the direct cause of the following exception:\n",
      "\u001b[31mRepositoryNotFoundError\u001b[39m                   Traceback (most recent call last)",
      "\u001b[36mCell\u001b[39m\u001b[36m \u001b[39m\u001b[32mIn[4]\u001b[39m\u001b[32m, line 26\u001b[39m\n\u001b[32m     16\u001b[39m \u001b[38;5;66;03m# IMPORTANT: include shard names and quantize_config.json\u001b[39;00m\n\u001b[32m     17\u001b[39m allow = [\n\u001b[32m     18\u001b[39m     \u001b[33m\"\u001b[39m\u001b[33m*.safetensors\u001b[39m\u001b[33m\"\u001b[39m,                   \u001b[38;5;66;03m# includes model-00001-of-00002.safetensors\u001b[39;00m\n\u001b[32m     19\u001b[39m     \u001b[33m\"\u001b[39m\u001b[33mmodel.safetensors.index.json\u001b[39m\u001b[33m\"\u001b[39m,\n\u001b[32m   (...)\u001b[39m\u001b[32m     23\u001b[39m     \u001b[33m\"\u001b[39m\u001b[33mspecial_tokens_map.json\u001b[39m\u001b[33m\"\u001b[39m, \u001b[33m\"\u001b[39m\u001b[33mvocab.json\u001b[39m\u001b[33m\"\u001b[39m,\n\u001b[32m     24\u001b[39m ]\n\u001b[32m---> \u001b[39m\u001b[32m26\u001b[39m local_path = \u001b[43msnapshot_download\u001b[49m\u001b[43m(\u001b[49m\n\u001b[32m     27\u001b[39m \u001b[43m    \u001b[49m\u001b[43mrepo_id\u001b[49m\u001b[43m=\u001b[49m\u001b[43mREPO_ID\u001b[49m\u001b[43m,\u001b[49m\n\u001b[32m     28\u001b[39m \u001b[43m    \u001b[49m\u001b[43mlocal_dir\u001b[49m\u001b[43m=\u001b[49m\u001b[38;5;28;43mstr\u001b[39;49m\u001b[43m(\u001b[49m\u001b[43mtarget\u001b[49m\u001b[43m)\u001b[49m\u001b[43m,\u001b[49m\n\u001b[32m     29\u001b[39m \u001b[43m    \u001b[49m\u001b[43mlocal_dir_use_symlinks\u001b[49m\u001b[43m=\u001b[49m\u001b[38;5;28;43;01mFalse\u001b[39;49;00m\u001b[43m,\u001b[49m\n\u001b[32m     30\u001b[39m \u001b[43m    \u001b[49m\u001b[43mallow_patterns\u001b[49m\u001b[43m=\u001b[49m\u001b[43mallow\u001b[49m\u001b[43m,\u001b[49m\n\u001b[32m     31\u001b[39m \u001b[43m    \u001b[49m\u001b[43mresume_download\u001b[49m\u001b[43m=\u001b[49m\u001b[38;5;28;43;01mTrue\u001b[39;49;00m\u001b[43m,\u001b[49m\n\u001b[32m     32\u001b[39m \u001b[43m)\u001b[49m\n\u001b[32m     34\u001b[39m \u001b[38;5;28mprint\u001b[39m(\u001b[33m\"\u001b[39m\u001b[33m✅ Downloaded to:\u001b[39m\u001b[33m\"\u001b[39m, local_path)\n\u001b[32m     35\u001b[39m \u001b[38;5;28mprint\u001b[39m(\u001b[33m\"\u001b[39m\u001b[33mquantize_config.json:\u001b[39m\u001b[33m\"\u001b[39m, (target / \u001b[33m\"\u001b[39m\u001b[33mquantize_config.json\u001b[39m\u001b[33m\"\u001b[39m).exists())\n",
      "\u001b[36mFile \u001b[39m\u001b[32mc:\\Users\\jywu7\\AppData\\Local\\Programs\\Python\\Python311\\Lib\\site-packages\\huggingface_hub\\utils\\_validators.py:114\u001b[39m, in \u001b[36mvalidate_hf_hub_args.<locals>._inner_fn\u001b[39m\u001b[34m(*args, **kwargs)\u001b[39m\n\u001b[32m    111\u001b[39m \u001b[38;5;28;01mif\u001b[39;00m check_use_auth_token:\n\u001b[32m    112\u001b[39m     kwargs = smoothly_deprecate_use_auth_token(fn_name=fn.\u001b[34m__name__\u001b[39m, has_token=has_token, kwargs=kwargs)\n\u001b[32m--> \u001b[39m\u001b[32m114\u001b[39m \u001b[38;5;28;01mreturn\u001b[39;00m \u001b[43mfn\u001b[49m\u001b[43m(\u001b[49m\u001b[43m*\u001b[49m\u001b[43margs\u001b[49m\u001b[43m,\u001b[49m\u001b[43m \u001b[49m\u001b[43m*\u001b[49m\u001b[43m*\u001b[49m\u001b[43mkwargs\u001b[49m\u001b[43m)\u001b[49m\n",
      "\u001b[36mFile \u001b[39m\u001b[32mc:\\Users\\jywu7\\AppData\\Local\\Programs\\Python\\Python311\\Lib\\site-packages\\huggingface_hub\\_snapshot_download.py:245\u001b[39m, in \u001b[36msnapshot_download\u001b[39m\u001b[34m(repo_id, repo_type, revision, cache_dir, local_dir, library_name, library_version, user_agent, proxies, etag_timeout, force_download, token, local_files_only, allow_patterns, ignore_patterns, max_workers, tqdm_class, headers, endpoint, local_dir_use_symlinks, resume_download)\u001b[39m\n\u001b[32m    236\u001b[39m     \u001b[38;5;28;01mraise\u001b[39;00m LocalEntryNotFoundError(\n\u001b[32m    237\u001b[39m         \u001b[33m\"\u001b[39m\u001b[33mCannot find an appropriate cached snapshot folder for the specified revision on the local disk and \u001b[39m\u001b[33m\"\u001b[39m\n\u001b[32m    238\u001b[39m         \u001b[33m\"\u001b[39m\u001b[33moutgoing traffic has been disabled. To enable repo look-ups and downloads online, set \u001b[39m\u001b[33m\"\u001b[39m\n\u001b[32m    239\u001b[39m         \u001b[33m\"\u001b[39m\u001b[33m'\u001b[39m\u001b[33mHF_HUB_OFFLINE=0\u001b[39m\u001b[33m'\u001b[39m\u001b[33m as environment variable.\u001b[39m\u001b[33m\"\u001b[39m\n\u001b[32m    240\u001b[39m     ) \u001b[38;5;28;01mfrom\u001b[39;00m\u001b[38;5;250m \u001b[39m\u001b[34;01mapi_call_error\u001b[39;00m\n\u001b[32m    241\u001b[39m \u001b[38;5;28;01melif\u001b[39;00m \u001b[38;5;28misinstance\u001b[39m(api_call_error, (RepositoryNotFoundError, GatedRepoError)) \u001b[38;5;129;01mor\u001b[39;00m (\n\u001b[32m    242\u001b[39m     \u001b[38;5;28misinstance\u001b[39m(api_call_error, HfHubHTTPError) \u001b[38;5;129;01mand\u001b[39;00m api_call_error.response.status_code == \u001b[32m401\u001b[39m\n\u001b[32m    243\u001b[39m ):\n\u001b[32m    244\u001b[39m     \u001b[38;5;66;03m# Repo not found, gated, or specific authentication error => let's raise the actual error\u001b[39;00m\n\u001b[32m--> \u001b[39m\u001b[32m245\u001b[39m     \u001b[38;5;28;01mraise\u001b[39;00m api_call_error\n\u001b[32m    246\u001b[39m \u001b[38;5;28;01melse\u001b[39;00m:\n\u001b[32m    247\u001b[39m     \u001b[38;5;66;03m# Otherwise: most likely a connection issue or Hub downtime => let's warn the user\u001b[39;00m\n\u001b[32m    248\u001b[39m     \u001b[38;5;28;01mraise\u001b[39;00m LocalEntryNotFoundError(\n\u001b[32m    249\u001b[39m         \u001b[33m\"\u001b[39m\u001b[33mAn error happened while trying to locate the files on the Hub and we cannot find the appropriate\u001b[39m\u001b[33m\"\u001b[39m\n\u001b[32m    250\u001b[39m         \u001b[33m\"\u001b[39m\u001b[33m snapshot folder for the specified revision on the local disk. Please check your internet connection\u001b[39m\u001b[33m\"\u001b[39m\n\u001b[32m    251\u001b[39m         \u001b[33m\"\u001b[39m\u001b[33m and try again.\u001b[39m\u001b[33m\"\u001b[39m\n\u001b[32m    252\u001b[39m     ) \u001b[38;5;28;01mfrom\u001b[39;00m\u001b[38;5;250m \u001b[39m\u001b[34;01mapi_call_error\u001b[39;00m\n",
      "\u001b[36mFile \u001b[39m\u001b[32mc:\\Users\\jywu7\\AppData\\Local\\Programs\\Python\\Python311\\Lib\\site-packages\\huggingface_hub\\_snapshot_download.py:165\u001b[39m, in \u001b[36msnapshot_download\u001b[39m\u001b[34m(repo_id, repo_type, revision, cache_dir, local_dir, library_name, library_version, user_agent, proxies, etag_timeout, force_download, token, local_files_only, allow_patterns, ignore_patterns, max_workers, tqdm_class, headers, endpoint, local_dir_use_symlinks, resume_download)\u001b[39m\n\u001b[32m    161\u001b[39m \u001b[38;5;28;01mif\u001b[39;00m \u001b[38;5;129;01mnot\u001b[39;00m local_files_only:\n\u001b[32m    162\u001b[39m     \u001b[38;5;66;03m# try/except logic to handle different errors => taken from `hf_hub_download`\u001b[39;00m\n\u001b[32m    163\u001b[39m     \u001b[38;5;28;01mtry\u001b[39;00m:\n\u001b[32m    164\u001b[39m         \u001b[38;5;66;03m# if we have internet connection we want to list files to download\u001b[39;00m\n\u001b[32m--> \u001b[39m\u001b[32m165\u001b[39m         repo_info = \u001b[43mapi\u001b[49m\u001b[43m.\u001b[49m\u001b[43mrepo_info\u001b[49m\u001b[43m(\u001b[49m\u001b[43mrepo_id\u001b[49m\u001b[43m=\u001b[49m\u001b[43mrepo_id\u001b[49m\u001b[43m,\u001b[49m\u001b[43m \u001b[49m\u001b[43mrepo_type\u001b[49m\u001b[43m=\u001b[49m\u001b[43mrepo_type\u001b[49m\u001b[43m,\u001b[49m\u001b[43m \u001b[49m\u001b[43mrevision\u001b[49m\u001b[43m=\u001b[49m\u001b[43mrevision\u001b[49m\u001b[43m)\u001b[49m\n\u001b[32m    166\u001b[39m     \u001b[38;5;28;01mexcept\u001b[39;00m (requests.exceptions.SSLError, requests.exceptions.ProxyError):\n\u001b[32m    167\u001b[39m         \u001b[38;5;66;03m# Actually raise for those subclasses of ConnectionError\u001b[39;00m\n\u001b[32m    168\u001b[39m         \u001b[38;5;28;01mraise\u001b[39;00m\n",
      "\u001b[36mFile \u001b[39m\u001b[32mc:\\Users\\jywu7\\AppData\\Local\\Programs\\Python\\Python311\\Lib\\site-packages\\huggingface_hub\\utils\\_validators.py:114\u001b[39m, in \u001b[36mvalidate_hf_hub_args.<locals>._inner_fn\u001b[39m\u001b[34m(*args, **kwargs)\u001b[39m\n\u001b[32m    111\u001b[39m \u001b[38;5;28;01mif\u001b[39;00m check_use_auth_token:\n\u001b[32m    112\u001b[39m     kwargs = smoothly_deprecate_use_auth_token(fn_name=fn.\u001b[34m__name__\u001b[39m, has_token=has_token, kwargs=kwargs)\n\u001b[32m--> \u001b[39m\u001b[32m114\u001b[39m \u001b[38;5;28;01mreturn\u001b[39;00m \u001b[43mfn\u001b[49m\u001b[43m(\u001b[49m\u001b[43m*\u001b[49m\u001b[43margs\u001b[49m\u001b[43m,\u001b[49m\u001b[43m \u001b[49m\u001b[43m*\u001b[49m\u001b[43m*\u001b[49m\u001b[43mkwargs\u001b[49m\u001b[43m)\u001b[49m\n",
      "\u001b[36mFile \u001b[39m\u001b[32mc:\\Users\\jywu7\\AppData\\Local\\Programs\\Python\\Python311\\Lib\\site-packages\\huggingface_hub\\hf_api.py:2864\u001b[39m, in \u001b[36mHfApi.repo_info\u001b[39m\u001b[34m(self, repo_id, revision, repo_type, timeout, files_metadata, expand, token)\u001b[39m\n\u001b[32m   2862\u001b[39m \u001b[38;5;28;01melse\u001b[39;00m:\n\u001b[32m   2863\u001b[39m     \u001b[38;5;28;01mraise\u001b[39;00m \u001b[38;5;167;01mValueError\u001b[39;00m(\u001b[33m\"\u001b[39m\u001b[33mUnsupported repo type.\u001b[39m\u001b[33m\"\u001b[39m)\n\u001b[32m-> \u001b[39m\u001b[32m2864\u001b[39m \u001b[38;5;28;01mreturn\u001b[39;00m \u001b[43mmethod\u001b[49m\u001b[43m(\u001b[49m\n\u001b[32m   2865\u001b[39m \u001b[43m    \u001b[49m\u001b[43mrepo_id\u001b[49m\u001b[43m,\u001b[49m\n\u001b[32m   2866\u001b[39m \u001b[43m    \u001b[49m\u001b[43mrevision\u001b[49m\u001b[43m=\u001b[49m\u001b[43mrevision\u001b[49m\u001b[43m,\u001b[49m\n\u001b[32m   2867\u001b[39m \u001b[43m    \u001b[49m\u001b[43mtoken\u001b[49m\u001b[43m=\u001b[49m\u001b[43mtoken\u001b[49m\u001b[43m,\u001b[49m\n\u001b[32m   2868\u001b[39m \u001b[43m    \u001b[49m\u001b[43mtimeout\u001b[49m\u001b[43m=\u001b[49m\u001b[43mtimeout\u001b[49m\u001b[43m,\u001b[49m\n\u001b[32m   2869\u001b[39m \u001b[43m    \u001b[49m\u001b[43mexpand\u001b[49m\u001b[43m=\u001b[49m\u001b[43mexpand\u001b[49m\u001b[43m,\u001b[49m\u001b[43m  \u001b[49m\u001b[38;5;66;43;03m# type: ignore[arg-type]\u001b[39;49;00m\n\u001b[32m   2870\u001b[39m \u001b[43m    \u001b[49m\u001b[43mfiles_metadata\u001b[49m\u001b[43m=\u001b[49m\u001b[43mfiles_metadata\u001b[49m\u001b[43m,\u001b[49m\n\u001b[32m   2871\u001b[39m \u001b[43m\u001b[49m\u001b[43m)\u001b[49m\n",
      "\u001b[36mFile \u001b[39m\u001b[32mc:\\Users\\jywu7\\AppData\\Local\\Programs\\Python\\Python311\\Lib\\site-packages\\huggingface_hub\\utils\\_validators.py:114\u001b[39m, in \u001b[36mvalidate_hf_hub_args.<locals>._inner_fn\u001b[39m\u001b[34m(*args, **kwargs)\u001b[39m\n\u001b[32m    111\u001b[39m \u001b[38;5;28;01mif\u001b[39;00m check_use_auth_token:\n\u001b[32m    112\u001b[39m     kwargs = smoothly_deprecate_use_auth_token(fn_name=fn.\u001b[34m__name__\u001b[39m, has_token=has_token, kwargs=kwargs)\n\u001b[32m--> \u001b[39m\u001b[32m114\u001b[39m \u001b[38;5;28;01mreturn\u001b[39;00m \u001b[43mfn\u001b[49m\u001b[43m(\u001b[49m\u001b[43m*\u001b[49m\u001b[43margs\u001b[49m\u001b[43m,\u001b[49m\u001b[43m \u001b[49m\u001b[43m*\u001b[49m\u001b[43m*\u001b[49m\u001b[43mkwargs\u001b[49m\u001b[43m)\u001b[49m\n",
      "\u001b[36mFile \u001b[39m\u001b[32mc:\\Users\\jywu7\\AppData\\Local\\Programs\\Python\\Python311\\Lib\\site-packages\\huggingface_hub\\hf_api.py:2649\u001b[39m, in \u001b[36mHfApi.model_info\u001b[39m\u001b[34m(self, repo_id, revision, timeout, securityStatus, files_metadata, expand, token)\u001b[39m\n\u001b[32m   2647\u001b[39m     params[\u001b[33m\"\u001b[39m\u001b[33mexpand\u001b[39m\u001b[33m\"\u001b[39m] = expand\n\u001b[32m   2648\u001b[39m r = get_session().get(path, headers=headers, timeout=timeout, params=params)\n\u001b[32m-> \u001b[39m\u001b[32m2649\u001b[39m \u001b[43mhf_raise_for_status\u001b[49m\u001b[43m(\u001b[49m\u001b[43mr\u001b[49m\u001b[43m)\u001b[49m\n\u001b[32m   2650\u001b[39m data = r.json()\n\u001b[32m   2651\u001b[39m \u001b[38;5;28;01mreturn\u001b[39;00m ModelInfo(**data)\n",
      "\u001b[36mFile \u001b[39m\u001b[32mc:\\Users\\jywu7\\AppData\\Local\\Programs\\Python\\Python311\\Lib\\site-packages\\huggingface_hub\\utils\\_http.py:459\u001b[39m, in \u001b[36mhf_raise_for_status\u001b[39m\u001b[34m(response, endpoint_name)\u001b[39m\n\u001b[32m    438\u001b[39m \u001b[38;5;28;01melif\u001b[39;00m error_code == \u001b[33m\"\u001b[39m\u001b[33mRepoNotFound\u001b[39m\u001b[33m\"\u001b[39m \u001b[38;5;129;01mor\u001b[39;00m (\n\u001b[32m    439\u001b[39m     response.status_code == \u001b[32m401\u001b[39m\n\u001b[32m    440\u001b[39m     \u001b[38;5;129;01mand\u001b[39;00m error_message != \u001b[33m\"\u001b[39m\u001b[33mInvalid credentials in Authorization header\u001b[39m\u001b[33m\"\u001b[39m\n\u001b[32m   (...)\u001b[39m\u001b[32m    448\u001b[39m     \u001b[38;5;66;03m# => for now, we process them as `RepoNotFound` anyway.\u001b[39;00m\n\u001b[32m    449\u001b[39m     \u001b[38;5;66;03m# See https://gist.github.com/Wauplin/46c27ad266b15998ce56a6603796f0b9\u001b[39;00m\n\u001b[32m    450\u001b[39m     message = (\n\u001b[32m    451\u001b[39m         \u001b[33mf\u001b[39m\u001b[33m\"\u001b[39m\u001b[38;5;132;01m{\u001b[39;00mresponse.status_code\u001b[38;5;132;01m}\u001b[39;00m\u001b[33m Client Error.\u001b[39m\u001b[33m\"\u001b[39m\n\u001b[32m    452\u001b[39m         + \u001b[33m\"\u001b[39m\u001b[38;5;130;01m\\n\u001b[39;00m\u001b[38;5;130;01m\\n\u001b[39;00m\u001b[33m\"\u001b[39m\n\u001b[32m   (...)\u001b[39m\u001b[32m    457\u001b[39m         \u001b[33m\"\u001b[39m\u001b[33m https://huggingface.co/docs/huggingface_hub/authentication\u001b[39m\u001b[33m\"\u001b[39m\n\u001b[32m    458\u001b[39m     )\n\u001b[32m--> \u001b[39m\u001b[32m459\u001b[39m     \u001b[38;5;28;01mraise\u001b[39;00m _format(RepositoryNotFoundError, message, response) \u001b[38;5;28;01mfrom\u001b[39;00m\u001b[38;5;250m \u001b[39m\u001b[34;01me\u001b[39;00m\n\u001b[32m    461\u001b[39m \u001b[38;5;28;01melif\u001b[39;00m response.status_code == \u001b[32m400\u001b[39m:\n\u001b[32m    462\u001b[39m     message = (\n\u001b[32m    463\u001b[39m         \u001b[33mf\u001b[39m\u001b[33m\"\u001b[39m\u001b[38;5;130;01m\\n\u001b[39;00m\u001b[38;5;130;01m\\n\u001b[39;00m\u001b[33mBad request for \u001b[39m\u001b[38;5;132;01m{\u001b[39;00mendpoint_name\u001b[38;5;132;01m}\u001b[39;00m\u001b[33m endpoint:\u001b[39m\u001b[33m\"\u001b[39m \u001b[38;5;28;01mif\u001b[39;00m endpoint_name \u001b[38;5;129;01mis\u001b[39;00m \u001b[38;5;129;01mnot\u001b[39;00m \u001b[38;5;28;01mNone\u001b[39;00m \u001b[38;5;28;01melse\u001b[39;00m \u001b[33m\"\u001b[39m\u001b[38;5;130;01m\\n\u001b[39;00m\u001b[38;5;130;01m\\n\u001b[39;00m\u001b[33mBad request:\u001b[39m\u001b[33m\"\u001b[39m\n\u001b[32m    464\u001b[39m     )\n",
      "\u001b[31mRepositoryNotFoundError\u001b[39m: 404 Client Error. (Request ID: Root=1-68d6ee03-5ef3b3577200a1b13a07b633;af4206ab-0644-4863-b9ca-29008c687cfd)\n\nRepository Not Found for url: https://huggingface.co/api/models/Qwen/Qwen2.5-7B-Instruct-GPTQ/revision/main.\nPlease make sure you specified the correct `repo_id` and `repo_type`.\nIf you are trying to access a private or gated repo, make sure you are authenticated. For more details, see https://huggingface.co/docs/huggingface_hub/authentication"
     ]
    }
   ],
   "source": [
    "from pathlib import Path\n",
    "import os, sys\n",
    "\n",
    "# --- Resolve repo root (works when notebook lives in app/model/) ---\n",
    "cwd = Path.cwd()\n",
    "repo_root = None\n",
    "for cand in [cwd.parents[1], cwd, cwd.parent]:\n",
    "    if (cand / \"model\").exists():\n",
    "        repo_root = cand\n",
    "        break\n",
    "if repo_root is None:\n",
    "    raise RuntimeError(\"Couldn't locate repo root that contains a 'model' folder.\")\n",
    "\n",
    "target_dir = (repo_root / \"model\" / \"models\" / \"Qwen2.5-7B-Instruct-GPTQ\").resolve()\n",
    "target_dir.mkdir(parents=True, exist_ok=True)\n",
    "\n",
    "# --- Choose a repo to pull from (change if you prefer another) ---\n",
    "REPO_CANDIDATES = [\n",
    "    \"Qwen/Qwen2.5-7B-Instruct-GPTQ-Int4\",  \n",
    "]\n",
    "REVISION = None  # or a tag/commit hash\n",
    "HF_TOKEN = os.getenv(\"HF_TOKEN\", None)  # set if the repo is gated\n",
    "\n",
    "# --- Ensure huggingface_hub is available ---\n",
    "try:\n",
    "    from huggingface_hub import snapshot_download, login\n",
    "except Exception:\n",
    "    !{sys.executable} -m pip install -q huggingface_hub\n",
    "    from huggingface_hub import snapshot_download, login\n",
    "\n",
    "# (optional) faster transfers\n",
    "os.environ.setdefault(\"HF_HUB_ENABLE_HF_TRANSFER\", \"1\")\n",
    "\n",
    "if HF_TOKEN:\n",
    "    try:\n",
    "        login(token=HF_TOKEN)\n",
    "    except Exception as e:\n",
    "        print(\"HF login failed (continuing unauthenticated):\", e)\n",
    "\n",
    "allow = [\n",
    "    \"*.safetensors\",                   # includes model-00001-of-00002.safetensors\n",
    "    \"model.safetensors.index.json\",\n",
    "    \"quantize_config.json\",\n",
    "    \"config.json\", \"generation_config.json\",\n",
    "    \"tokenizer.json\", \"tokenizer_config.json\", \"tokenizer.model\",\n",
    "    \"special_tokens_map.json\", \"vocab.json\",\n",
    "]\n",
    "\n",
    "last_err = None\n",
    "for rid in REPO_CANDIDATES:\n",
    "    print(f\"→ trying {rid} …\")\n",
    "    try:\n",
    "        local_path = snapshot_download(\n",
    "            repo_id=rid,\n",
    "            revision=REVISION,\n",
    "            local_dir=str(target_dir),\n",
    "            local_dir_use_symlinks=False,\n",
    "            allow_patterns=allow,\n",
    "            resume_download=True,\n",
    "        )\n",
    "        print(\"Downloaded to:\", local_path)\n",
    "        break\n",
    "    except Exception as e:\n",
    "        last_err = e\n",
    "        print(f\"  (failed: {e})\")\n",
    "else:\n",
    "    raise RuntimeError(f\"All candidates failed. Last error:\\n{last_err}\")\n",
    "\n",
    "has_quant = (target_dir / \"quantize_config.json\").exists()\n",
    "num_safetensors = len(glob.glob(str(target_dir / \"*.safetensors\")))\n",
    "print(\"quantize_config.json:\", has_quant)\n",
    "print(\"# of safetensors weights:\", num_safetensors)\n",
    "assert has_quant and num_safetensors > 0, \"This folder is not a valid GPTQ export.\"\n",
    "\n",
    "print(\"\\nSet this before running the console agent:\")\n",
    "print(rf'$env:HF_LOCAL_PATH = \"{target_dir}\"')\n"
   ]
  }
 ],
 "metadata": {
  "kernelspec": {
   "display_name": "Python 3",
   "language": "python",
   "name": "python3"
  },
  "language_info": {
   "codemirror_mode": {
    "name": "ipython",
    "version": 3
   },
   "file_extension": ".py",
   "mimetype": "text/x-python",
   "name": "python",
   "nbconvert_exporter": "python",
   "pygments_lexer": "ipython3",
   "version": "3.11.0"
  }
 },
 "nbformat": 4,
 "nbformat_minor": 5
}
